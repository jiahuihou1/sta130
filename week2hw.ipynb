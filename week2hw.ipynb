{
 "cells": [
  {
   "cell_type": "code",
   "execution_count": 4,
   "metadata": {
    "vscode": {
     "languageId": "bat"
    }
   },
   "outputs": [
    {
     "name": "stdout",
     "output_type": "stream",
     "text": [
      "Collecting numpy\n",
      "  Downloading numpy-2.1.1-cp312-cp312-macosx_14_0_arm64.whl.metadata (60 kB)\n",
      "Collecting pandas\n",
      "  Downloading pandas-2.2.3-cp312-cp312-macosx_11_0_arm64.whl.metadata (89 kB)\n",
      "Requirement already satisfied: python-dateutil>=2.8.2 in /Users/jiahui/Library/Python/3.12/lib/python/site-packages (from pandas) (2.9.0.post0)\n",
      "Collecting pytz>=2020.1 (from pandas)\n",
      "  Downloading pytz-2024.2-py2.py3-none-any.whl.metadata (22 kB)\n",
      "Collecting tzdata>=2022.7 (from pandas)\n",
      "  Downloading tzdata-2024.1-py2.py3-none-any.whl.metadata (1.4 kB)\n",
      "Requirement already satisfied: six>=1.5 in /Users/jiahui/Library/Python/3.12/lib/python/site-packages (from python-dateutil>=2.8.2->pandas) (1.16.0)\n",
      "Downloading numpy-2.1.1-cp312-cp312-macosx_14_0_arm64.whl (5.1 MB)\n",
      "\u001b[2K   \u001b[90m━━━━━━━━━━━━━━━━━━━━━━━━━━━━━━━━━━━━━━━━\u001b[0m \u001b[32m5.1/5.1 MB\u001b[0m \u001b[31m8.7 MB/s\u001b[0m eta \u001b[36m0:00:00\u001b[0ma \u001b[36m0:00:01\u001b[0m\n",
      "\u001b[?25hDownloading pandas-2.2.3-cp312-cp312-macosx_11_0_arm64.whl (11.4 MB)\n",
      "\u001b[2K   \u001b[90m━━━━━━━━━━━━━━━━━━━━━━━━━━━━━━━━━━━━━━━━\u001b[0m \u001b[32m11.4/11.4 MB\u001b[0m \u001b[31m14.8 MB/s\u001b[0m eta \u001b[36m0:00:00\u001b[0m \u001b[36m0:00:01\u001b[0m\n",
      "\u001b[?25hDownloading pytz-2024.2-py2.py3-none-any.whl (508 kB)\n",
      "Downloading tzdata-2024.1-py2.py3-none-any.whl (345 kB)\n",
      "Installing collected packages: pytz, tzdata, numpy, pandas\n",
      "Successfully installed numpy-2.1.1 pandas-2.2.3 pytz-2024.2 tzdata-2024.1\n",
      "Note: you may need to restart the kernel to use updated packages.\n"
     ]
    }
   ],
   "source": [
    "pip install numpy pandas"
   ]
  },
  {
   "cell_type": "markdown",
   "metadata": {},
   "source": [
    "## 1 + 2\n",
    "https://chatgpt.com/share/66ecb0c2-bc7c-8010-9e9b-2a5b67204e2b - "
   ]
  },
  {
   "cell_type": "markdown",
   "metadata": {},
   "source": [
    "## 3"
   ]
  },
  {
   "cell_type": "code",
   "execution_count": 11,
   "metadata": {},
   "outputs": [
    {
     "name": "stdout",
     "output_type": "stream",
     "text": [
      "Win rate when switching: 0.6674\n"
     ]
    }
   ],
   "source": [
    "import numpy as np\n",
    "\n",
    "# start by defining the 3 doors\n",
    "all_door_options = (1, 2, 3)\n",
    "\n",
    "# initialize win count and number of simulations, set reps to a large number like 10,000 to make it more accurate. \n",
    "i_won = 0\n",
    "reps = 10000\n",
    "\n",
    "# run the simulation for 'reps' number of times\n",
    "for _ in range(reps):\n",
    "    # randomly choose the winning door and simulate my first choice (always door 1), what door you choose dont matter. \n",
    "    secret_winning_door = np.random.choice(all_door_options)\n",
    "    my_door_choice = 1  # we start by always choosing door 1\n",
    "\n",
    "    # monty will then reveal a goat from the remaining doors\n",
    "    # IF the initial choice is correct (winning door), he has two options to reveal\n",
    "    # otherwise, only one option left to reveal the goat\n",
    "    goat_door_reveal = np.random.choice([door for door in all_door_options if door != secret_winning_door and door != my_door_choice])\n",
    "\n",
    "    # Simulate the switch: the only remaining door after Monty's reveal. \n",
    "    switched_door = [door for door in all_door_options if door != my_door_choice and door != goat_door_reveal][0]\n",
    "\n",
    "    # check if after switching if the new door is the correct choice.\n",
    "    if switched_door == secret_winning_door:\n",
    "        i_won += 1\n",
    "\n",
    "# calculate and print out the probability of winning when switching doors from your original choice to the remaining door. \n",
    "win_rate = i_won / reps\n",
    "print(f\"Win rate when switching: {win_rate:.4f}\")"
   ]
  },
  {
   "cell_type": "markdown",
   "metadata": {},
   "source": [
    "## 4\n",
    "\n",
    "https://chatgpt.com/share/66ece753-7f28-8010-b805-0208a082a425\n",
    "# Markov Chain and Extensions: Chat Summary\n",
    "\n",
    "## 1. **Initial Markov Chain Code Explanation**\n",
    "- **Objective:** Track word occurrences and transitions between consecutive words using two dictionaries:\n",
    "  - `word_used`: Counts how often each word appears.\n",
    "  - `next_word`: Tracks which words follow a given word and how frequently.\n",
    "  \n",
    "- **Key Ideas:**\n",
    "  - A simple Markov Chain model was created to map word transitions based on a single word's occurrence.\n",
    "  - This model lacks long-term memory and only looks at the immediate word-to-word transitions.\n",
    "\n",
    "## 2. **Comparison Between Markov Chains and GPT-4**\n",
    "- **Markov Chain:**\n",
    "  - Generates sentences by selecting the next word based on immediate probabilities from the current word.\n",
    "  - Lacks deeper understanding and context beyond immediate word-to-word relationships.\n",
    "  \n",
    "- **GPT-4 (and similar models):**\n",
    "  - Uses deep learning to capture longer dependencies, understanding of context, syntax, and semantics.\n",
    "  - Far more advanced than Markov Chains, enabling better sentence generation, coherence, and logical flow.\n",
    "  \n",
    "- **Discussion:** \n",
    "  - A Markov chain, even with a large dataset, cannot compete with models like GPT-3/4 in terms of complexity and understanding of language.\n",
    "  - However, for simple systems with limited transitions (e.g., weather modeling), Markov Chains can be useful.\n",
    "\n",
    "## 3. **Extensions to the Markov Chain Code**\n",
    "- **Second Code Version:**\n",
    "  - **word_used2** and **next_word2** now track pairs of words (bigrams) instead of single words.\n",
    "  - The transition probability is based on the frequency of a **third word** following a **pair of consecutive words**.\n",
    "\n",
    "- **Key Takeaways:**\n",
    "  - This is a **second-order Markov chain** model, where the prediction depends on the last two words.\n",
    "  - This allows for smoother and more context-aware transitions compared to the single-word model.\n",
    "  \n",
    "## 4. **Conclusion**\n",
    "- Increasing the n-gram length (using two-word sequences) improves sentence coherence.\n",
    "- Markov Chains, though useful for some tasks, are limited compared to modern neural networks like GPT-3/4, especially in complex tasks like natural language processing.\n"
   ]
  },
  {
   "cell_type": "markdown",
   "metadata": {},
   "source": [
    "## 5\n",
    "### 1 & 2\n",
    "https://chatgpt.com/share/66ece753-7f28-8010-b805-0208a082a425\n",
    "\n",
    "### 3. \n",
    "https://chatgpt.com/share/66ece85a-0c68-8010-94c2-ab9651738ddd"
   ]
  },
  {
   "cell_type": "markdown",
   "metadata": {},
   "source": [
    "## 6.\n",
    "### 1. \n",
    "For question 1 and 2, the Chatbot was able to help me understand the materials with ease. It was really helpful in explaining using examples, suggestions, and from a different pov everytime I get confused. 3FOr question 3, with a lack of coding knowledge, my Chatbot was able to clearly help me write out the code. It was also written in simple python code, with comments to help me understand what exactly is happening. I am able to understand the steps of creating the program, but the chatbot was able to actually write my thoughts into context and coding format. Similar to question 1 and 2, the Chatbot was able to effectively explain the concept to me. I also had follow up questions that wouldve been hard finding out the answers to online, such as the difference between the Chatbot itself and Markovian ChatBot we just discussed about. Of course, same for question 5, it was able to discuss the points to me clearly. \n",
    "### 2. \n",
    "Yes, working with a Chatbot could definitely be frustrating. I first used the Chatbot on the free version, and it was unable to follow the instructions given for qeustion 5, part 3. Without extra information it struggles with following lenient guidelines, but I feel like once I get better at instruction structuring, it will all get better.\n",
    "\n",
    "### 3. \n",
    "ChatGPT was extremely good at troubleshooting coding errors. Maybe its because I have the premium version now, that I found it to be very helpful in explaning and helping me understand the code in its entirety. Its able to break down the code into simpler terms, give an explanation suitable for someone with no previous coding understanding, and such. Overall, I feel like my Chatbot experience has been greatly benificial to my learning. \n"
   ]
  },
  {
   "cell_type": "markdown",
   "metadata": {},
   "source": [
    "## 7\n",
    "after interating with the chatbot, i can feel the helpfulness in learning with AI assistance. When it comes to writing out my ideas into coding format, to understand coding prompts that might not be intuitive, to even simply finding errors in thought processes, I feel like having a chatbot, with the ability to receive feedback in real time, greatly accelerate the learning process compared to traditional methods like textbooks. "
   ]
  },
  {
   "cell_type": "markdown",
   "metadata": {},
   "source": [
    "## 8. \n",
    "\n",
    "### 1. 2. \n",
    "https://chatgpt.com/share/66f1b8e7-6acc-8010-8eda-76993e27d804\n",
    "\n",
    "### 3. \n",
    "https://chatgpt.com/c/66eced98-85b0-8010-97c9-5e75d2bfa9f5\n",
    "\n",
    "## Summary of Conversation\n",
    "\n",
    "### Career Focus:\n",
    "You are interested in pursuing a **data-related career**, particularly in **statistics** and **quantitative finance**. The key skills you’ll need for this path include:\n",
    "\n",
    "### 1. **Statistics and Mathematical Knowledge**\n",
    "   - Understanding **probability**, **time series analysis**, and **predictive modeling**.\n",
    "   - Skills in **regression**, **classification**, and **hypothesis testing** will be essential.\n",
    "\n",
    "### 2. **Coding and Data Manipulation**\n",
    "   - Proficiency in **Python**, **R**, and **SQL** for data manipulation and analysis.\n",
    "   - Knowledge of **data wrangling** and cleaning techniques.\n",
    "   - Skills in **data visualization** using tools like **Tableau**, **Power BI**, and libraries such as **Matplotlib** and **Seaborn**.\n",
    "\n",
    "### 3. **Machine Learning**\n",
    "   - Applying algorithms for both **supervised** and **unsupervised learning**.\n",
    "   - Knowledge of **deep learning** for handling complex data types (e.g., images, video).\n",
    "\n",
    "### 4. **Big Data Technologies**\n",
    "   - Familiarity with **distributed computing** tools like **Hadoop**, **Spark**, and **Kafka**.\n",
    "   - **Cloud computing** platforms such as **AWS**, **Google Cloud**, and **Azure** for storing and analyzing large-scale datasets.\n",
    "\n",
    "### 5. **Business and Domain Knowledge**\n",
    "   - Understanding how **data insights** apply to industries such as **finance**, **healthcare**, or **marketing**.\n",
    "   - Ability to align data-driven insights with **business strategy** and decision-making.\n",
    "\n",
    "### 6. **Ethics and Data Privacy**\n",
    "   - Ensuring compliance with **data privacy laws** like **GDPR** and adhering to ethical standards in data usage.\n",
    "   - Addressing and mitigating **bias** in data models and algorithms.\n",
    "\n",
    "### 7. **Communication**\n",
    "   - Ability to present **data insights** clearly and effectively to both technical and non-technical audiences.\n",
    "   - Skills in **data storytelling** and the use of visualizations to communicate findings.\n",
    "\n",
    "This combination of skills will equip you for roles in **data science**, **analytics**, and **quantitative finance**, focusing on extracting value from data to inform business decisions and strategies.\n",
    "\n",
    "### 4. \n",
    "in my conversation with the chatbot, I realized that to pursue a career in data, especially in statistics and quantitative finance, both of which im interesting in pursuing, I'll require a mix of key skills, some of the hard skills include math, and stats, such as working with probability and predictive modeling. I will also need to be good at coding to handle analyze such data, but with the speed of AI advancement, I feel like I will only require a basic understanding in the future as I could do much above my skill level with an AI assistant. Some soft skills include being able to communicate my understandings and finding clearly, especially in quantitative finance, is something I'll need to focus on.  "
   ]
  },
  {
   "cell_type": "markdown",
   "metadata": {},
   "source": [
    "## 9. \n",
    "\n",
    "Yes!"
   ]
  }
 ],
 "metadata": {
  "kernelspec": {
   "display_name": "Python 3",
   "language": "python",
   "name": "python3"
  },
  "language_info": {
   "codemirror_mode": {
    "name": "ipython",
    "version": 3
   },
   "file_extension": ".py",
   "mimetype": "text/x-python",
   "name": "python",
   "nbconvert_exporter": "python",
   "pygments_lexer": "ipython3",
   "version": "3.12.6"
  }
 },
 "nbformat": 4,
 "nbformat_minor": 2
}
